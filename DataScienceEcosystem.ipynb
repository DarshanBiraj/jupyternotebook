{
 "cells": [
  {
   "cell_type": "markdown",
   "id": "b31077b3",
   "metadata": {},
   "source": [
    "# Data Science Tools and Ecosystem"
   ]
  },
  {
   "cell_type": "code",
   "execution_count": null,
   "id": "fdb0c1a8",
   "metadata": {},
   "outputs": [],
   "source": []
  },
  {
   "cell_type": "markdown",
   "id": "6c3bdf23",
   "metadata": {},
   "source": [
    "# In this notebook, Data Science Tools and Ecosystem are summarized"
   ]
  },
  {
   "cell_type": "code",
   "execution_count": null,
   "id": "eb777bbd",
   "metadata": {},
   "outputs": [],
   "source": []
  },
  {
   "cell_type": "markdown",
   "id": "d71e572c",
   "metadata": {},
   "source": [
    "# Some of the popular languages that Data Scientists use are:"
   ]
  },
  {
   "cell_type": "markdown",
   "id": "2fc39856",
   "metadata": {},
   "source": [
    "## list\n",
    "### 1. python\n",
    "### 2. R\n",
    "### 3. Julia"
   ]
  },
  {
   "cell_type": "code",
   "execution_count": null,
   "id": "efc38877",
   "metadata": {},
   "outputs": [],
   "source": []
  },
  {
   "cell_type": "markdown",
   "id": "6adefa38",
   "metadata": {},
   "source": [
    "## Data Science Tools\n",
    "\n",
    "| S.L |Data Science Tools|\n",
    "|-----|------------------|\n",
    "|1. | Data Managment|\n",
    "|2. | Data visualization|\n",
    "|3. | Data Deployment|"
   ]
  },
  {
   "cell_type": "code",
   "execution_count": null,
   "id": "0a509379",
   "metadata": {},
   "outputs": [],
   "source": []
  },
  {
   "attachments": {},
   "cell_type": "markdown",
   "id": "f903527e",
   "metadata": {},
   "source": [
    "### Below are a few examples of evaluating arithmetic expressions in Python"
   ]
  },
  {
   "cell_type": "code",
   "execution_count": 2,
   "id": "c21e0e4c",
   "metadata": {},
   "outputs": [
    {
     "data": {
      "text/plain": [
       "17"
      ]
     },
     "execution_count": 2,
     "metadata": {},
     "output_type": "execute_result"
    }
   ],
   "source": [
    "(3*4)+5"
   ]
  },
  {
   "cell_type": "code",
   "execution_count": null,
   "id": "cbcabad1",
   "metadata": {},
   "outputs": [],
   "source": []
  },
  {
   "cell_type": "code",
   "execution_count": 5,
   "id": "47fe7f29",
   "metadata": {},
   "outputs": [
    {
     "data": {
      "text/plain": [
       "(3.3333333333333335,)"
      ]
     },
     "execution_count": 5,
     "metadata": {},
     "output_type": "execute_result"
    }
   ],
   "source": [
    "200/60,   #This will convert 200 minutes to hours by diving by 60"
   ]
  },
  {
   "cell_type": "code",
   "execution_count": null,
   "id": "bfce4915",
   "metadata": {},
   "outputs": [],
   "source": []
  },
  {
   "cell_type": "markdown",
   "id": "1b78dffe",
   "metadata": {},
   "source": [
    "## Objectives:\n",
    "\n",
    "List popular languages for Data Science.\n",
    "* python\n",
    "* R\n",
    "* julia\n",
    "* java"
   ]
  },
  {
   "cell_type": "code",
   "execution_count": null,
   "id": "64d59807",
   "metadata": {},
   "outputs": [],
   "source": []
  },
  {
   "cell_type": "markdown",
   "id": "cf83aade",
   "metadata": {},
   "source": [
    "## Author\n",
    "\n",
    "### Darshan Biraj"
   ]
  },
  {
   "cell_type": "code",
   "execution_count": null,
   "id": "7d191ac1",
   "metadata": {},
   "outputs": [],
   "source": []
  }
 ],
 "metadata": {
  "kernelspec": {
   "display_name": "Python 3 (ipykernel)",
   "language": "python",
   "name": "python3"
  },
  "language_info": {
   "codemirror_mode": {
    "name": "ipython",
    "version": 3
   },
   "file_extension": ".py",
   "mimetype": "text/x-python",
   "name": "python",
   "nbconvert_exporter": "python",
   "pygments_lexer": "ipython3",
   "version": "3.11.3"
  }
 },
 "nbformat": 4,
 "nbformat_minor": 5
}
